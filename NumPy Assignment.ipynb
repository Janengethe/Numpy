{
 "cells": [
  {
   "cell_type": "markdown",
   "id": "ca3682b7",
   "metadata": {},
   "source": [
    "## Title: NumPy Assignment\n",
    "In this assignment, you'll practice using NumPy to solve a problem. You have been given a dataset that represents the height (in centimeters) of 10 students in a class.\n",
    "\n",
    "### Dataset:\n",
    "\n",
    " heights = np.array([160, 155, 172, 165, 180, 158, 175, 163, 171, 168])\n",
    "Your task is to:\n",
    "\n",
    "1. Calculate the mean, median, and standard deviation of the students' heights.\n",
    "\n",
    "2. Create a new array with the heights normalized, i.e., each height value should be transformed to have a mean of 0 and a standard deviation of 1.\n",
    "\n",
    "3. Determine the tallest and shortest students in the class using NumPy's argmax and argmin functions.\n",
    "\n",
    "4. Calculate the difference between the tallest and shortest students' heights.\n",
    "\n",
    "5. Randomly select 5 heights from the dataset without replacement.\n",
    "\n",
    "6. Complete the assignment by writing Python code using NumPy. Remember to first import NumPy and use its functions to perform the required calculations. Good luck!\n",
    "\n",
    "* Note: The purpose of this assignment is to test your understanding of NumPy concepts covered in this curriculum. Try to complete the assignment without referring back to the curriculum, but if you get stuck, feel free to review the topics and examples provided.\n",
    "\n"
   ]
  },
  {
   "cell_type": "code",
   "execution_count": 1,
   "id": "a2c1ed50",
   "metadata": {},
   "outputs": [],
   "source": [
    "import numpy as np"
   ]
  },
  {
   "cell_type": "code",
   "execution_count": 3,
   "id": "e292d40d",
   "metadata": {},
   "outputs": [
    {
     "data": {
      "text/plain": [
       "array([160, 155, 172, 165, 180, 158, 175, 163, 171, 168])"
      ]
     },
     "execution_count": 3,
     "metadata": {},
     "output_type": "execute_result"
    }
   ],
   "source": [
    "heights = np.array([160, 155, 172, 165, 180, 158, 175, 163, 171, 168])\n",
    "heights"
   ]
  },
  {
   "cell_type": "markdown",
   "id": "4c7baef7",
   "metadata": {},
   "source": [
    "#### Mean"
   ]
  },
  {
   "cell_type": "code",
   "execution_count": 4,
   "id": "e3f89c28",
   "metadata": {},
   "outputs": [
    {
     "data": {
      "text/plain": [
       "166.7"
      ]
     },
     "execution_count": 4,
     "metadata": {},
     "output_type": "execute_result"
    }
   ],
   "source": [
    "mean = np.mean(heights)\n",
    "mean"
   ]
  },
  {
   "cell_type": "markdown",
   "id": "91026778",
   "metadata": {},
   "source": [
    "#### Median"
   ]
  },
  {
   "cell_type": "code",
   "execution_count": 5,
   "id": "9a9efdb5",
   "metadata": {},
   "outputs": [
    {
     "data": {
      "text/plain": [
       "166.5"
      ]
     },
     "execution_count": 5,
     "metadata": {},
     "output_type": "execute_result"
    }
   ],
   "source": [
    "median = np.median(heights)\n",
    "median"
   ]
  },
  {
   "cell_type": "markdown",
   "id": "4a17bef7",
   "metadata": {},
   "source": [
    "#### Mode"
   ]
  },
  {
   "cell_type": "code",
   "execution_count": 10,
   "id": "d475784a",
   "metadata": {},
   "outputs": [
    {
     "data": {
      "text/plain": [
       "ModeResult(mode=array([155]), count=array([1]))"
      ]
     },
     "execution_count": 10,
     "metadata": {},
     "output_type": "execute_result"
    }
   ],
   "source": [
    "from scipy import stats\n",
    "mode = stats.mode(heights, keepdims=True)\n",
    "mode"
   ]
  },
  {
   "cell_type": "markdown",
   "id": "e5bd6ce6",
   "metadata": {},
   "source": [
    "#### Standard Deviation"
   ]
  },
  {
   "cell_type": "code",
   "execution_count": 13,
   "id": "94a0ef98",
   "metadata": {},
   "outputs": [
    {
     "data": {
      "text/plain": [
       "7.5372408744845085"
      ]
     },
     "execution_count": 13,
     "metadata": {},
     "output_type": "execute_result"
    }
   ],
   "source": [
    "std_dev = np.std(heights)\n",
    "std_dev"
   ]
  },
  {
   "cell_type": "markdown",
   "id": "e368a5d2",
   "metadata": {},
   "source": [
    "#### Normalized Height\n",
    "Create a new array with the heights normalized, i.e., each height value should be transformed to have a mean of 0 and a standard deviation of 1."
   ]
  },
  {
   "cell_type": "code",
   "execution_count": 15,
   "id": "a4de907d",
   "metadata": {},
   "outputs": [
    {
     "data": {
      "text/plain": [
       "array([-0.88891945, -1.55229217,  0.70317509, -0.22554673,  1.76457144,\n",
       "       -1.15426854,  1.10119872, -0.49089581,  0.57050054,  0.17247691])"
      ]
     },
     "execution_count": 15,
     "metadata": {},
     "output_type": "execute_result"
    }
   ],
   "source": [
    "normalized_heights = (heights - mean) / std_dev\n",
    "normalized_heights"
   ]
  },
  {
   "cell_type": "markdown",
   "id": "5d24b86a",
   "metadata": {},
   "source": [
    "#### argmax and argmin\n",
    "Determine the tallest and shortest students in the class using NumPy's argmax and argmin functions."
   ]
  },
  {
   "cell_type": "code",
   "execution_count": 18,
   "id": "8ebf7a10",
   "metadata": {},
   "outputs": [
    {
     "data": {
      "text/plain": [
       "array([160, 155, 172, 165, 180, 158, 175, 163, 171, 168])"
      ]
     },
     "execution_count": 18,
     "metadata": {},
     "output_type": "execute_result"
    }
   ],
   "source": [
    "heights = np.array([160, 155, 172, 165, 180, 158, 175, 163, 171, 168])\n",
    "heights"
   ]
  },
  {
   "cell_type": "code",
   "execution_count": 24,
   "id": "f81d6efb",
   "metadata": {},
   "outputs": [
    {
     "data": {
      "text/plain": [
       "180"
      ]
     },
     "execution_count": 24,
     "metadata": {},
     "output_type": "execute_result"
    }
   ],
   "source": [
    "max_idx = np.argmax(heights) #Returns the index of the element with the highest value\n",
    "max_height = heights[max_idx] #print the element\n",
    "max_height"
   ]
  },
  {
   "cell_type": "code",
   "execution_count": 25,
   "id": "4eb52e77",
   "metadata": {},
   "outputs": [
    {
     "data": {
      "text/plain": [
       "155"
      ]
     },
     "execution_count": 25,
     "metadata": {},
     "output_type": "execute_result"
    }
   ],
   "source": [
    "min_idx = np.argmin(heights)\n",
    "min_height = heights[min_idx]\n",
    "min_height"
   ]
  },
  {
   "cell_type": "markdown",
   "id": "b4ef99f4",
   "metadata": {},
   "source": [
    "Calculate the difference between the tallest and shortest students' heights."
   ]
  },
  {
   "cell_type": "code",
   "execution_count": 26,
   "id": "a3f6d3e9",
   "metadata": {},
   "outputs": [
    {
     "data": {
      "text/plain": [
       "25"
      ]
     },
     "execution_count": 26,
     "metadata": {},
     "output_type": "execute_result"
    }
   ],
   "source": [
    "difference = max_height - min_height\n",
    "difference"
   ]
  },
  {
   "cell_type": "markdown",
   "id": "d3e43191",
   "metadata": {},
   "source": [
    "#### Random Selection"
   ]
  },
  {
   "cell_type": "markdown",
   "id": "305f7ab9",
   "metadata": {},
   "source": [
    "Randomly select 5 heights from the dataset without replacement."
   ]
  },
  {
   "cell_type": "code",
   "execution_count": 44,
   "id": "15e61881",
   "metadata": {},
   "outputs": [
    {
     "data": {
      "text/plain": [
       "array([158, 180, 171, 155, 168])"
      ]
     },
     "execution_count": 44,
     "metadata": {},
     "output_type": "execute_result"
    }
   ],
   "source": [
    "random = np.random.choice(heights, 5, replace=False)\n",
    "random"
   ]
  },
  {
   "cell_type": "code",
   "execution_count": null,
   "id": "ef3fe1f5",
   "metadata": {},
   "outputs": [],
   "source": []
  },
  {
   "cell_type": "code",
   "execution_count": null,
   "id": "acc855b9",
   "metadata": {},
   "outputs": [],
   "source": []
  }
 ],
 "metadata": {
  "kernelspec": {
   "display_name": "Python 3 (ipykernel)",
   "language": "python",
   "name": "python3"
  },
  "language_info": {
   "codemirror_mode": {
    "name": "ipython",
    "version": 3
   },
   "file_extension": ".py",
   "mimetype": "text/x-python",
   "name": "python",
   "nbconvert_exporter": "python",
   "pygments_lexer": "ipython3",
   "version": "3.10.9"
  }
 },
 "nbformat": 4,
 "nbformat_minor": 5
}
